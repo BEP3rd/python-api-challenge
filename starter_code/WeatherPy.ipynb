{
 "cells": [
  {
   "cell_type": "markdown",
   "metadata": {},
   "source": [
    "# WeatherPy\n",
    "----\n",
    "\n",
    "#### Note\n",
    "* Instructions have been included for each segment. You do not have to follow them exactly, but they are included to help you think through the steps."
   ]
  },
  {
   "cell_type": "code",
   "execution_count": 57,
   "metadata": {
    "scrolled": true
   },
   "outputs": [],
   "source": [
    "# Dependencies and Setup\n",
    "import matplotlib.pyplot as plt\n",
    "import pandas as pd\n",
    "import numpy as np\n",
    "import requests\n",
    "import time\n",
    "from scipy.stats import linregress\n",
    "from scipy import stats\n",
    "import json\n",
    "\n",
    "\n",
    "# Import API key\n",
    "from api_keys import weather_api_key\n",
    "\n",
    "# Incorporated citipy to determine city based on latitude and longitude\n",
    "from citipy import citipy\n",
    "\n",
    "# Output File (CSV)\n",
    "output_data_file = \"output_data/cities.csv\"\n",
    "\n",
    "# Range of latitudes and longitudes\n",
    "lat_range = (-90, 90)\n",
    "lng_range = (-180, 180)"
   ]
  },
  {
   "cell_type": "markdown",
   "metadata": {},
   "source": [
    "## Generate Cities List"
   ]
  },
  {
   "cell_type": "code",
   "execution_count": 58,
   "metadata": {},
   "outputs": [
    {
     "data": {
      "text/plain": [
       "633"
      ]
     },
     "execution_count": 58,
     "metadata": {},
     "output_type": "execute_result"
    }
   ],
   "source": [
    "# List for holding lat_lngs and cities\n",
    "lat_lngs = []\n",
    "cities = []\n",
    "\n",
    "# Create a set of random lat and lng combinations\n",
    "lats = np.random.uniform(lat_range[0], lat_range[1], size=1500)\n",
    "lngs = np.random.uniform(lng_range[0], lng_range[1], size=1500)\n",
    "lat_lngs = zip(lats, lngs)\n",
    "\n",
    "# Identify nearest city for each lat, lng combination\n",
    "for lat_lng in lat_lngs:\n",
    "    city = citipy.nearest_city(lat_lng[0], lat_lng[1]).city_name\n",
    "    \n",
    "    # If the city is unique, then add it to a our cities list\n",
    "    if city not in cities:\n",
    "        cities.append(city)\n",
    "\n",
    "# Print the city count to confirm sufficient count\n",
    "len(cities)"
   ]
  },
  {
   "cell_type": "markdown",
   "metadata": {},
   "source": [
    "### Perform API Calls\n",
    "* Perform a weather check on each city using a series of successive API calls.\n",
    "* Include a print log of each city as it'sbeing processed (with the city number and city name).\n"
   ]
  },
  {
   "cell_type": "code",
   "execution_count": 59,
   "metadata": {
    "scrolled": true
   },
   "outputs": [
    {
     "name": "stdout",
     "output_type": "stream",
     "text": [
      "{\n",
      "    \"coord\": {\n",
      "        \"lon\": 168.3333,\n",
      "        \"lat\": -46.6\n",
      "    },\n",
      "    \"weather\": [\n",
      "        {\n",
      "            \"id\": 804,\n",
      "            \"main\": \"Clouds\",\n",
      "            \"description\": \"overcast clouds\",\n",
      "            \"icon\": \"04d\"\n",
      "        }\n",
      "    ],\n",
      "    \"base\": \"stations\",\n",
      "    \"main\": {\n",
      "        \"temp\": 12.11,\n",
      "        \"feels_like\": 11.39,\n",
      "        \"temp_min\": 12.11,\n",
      "        \"temp_max\": 12.11,\n",
      "        \"pressure\": 1015,\n",
      "        \"humidity\": 77,\n",
      "        \"sea_level\": 1015,\n",
      "        \"grnd_level\": 1012\n",
      "    },\n",
      "    \"visibility\": 10000,\n",
      "    \"wind\": {\n",
      "        \"speed\": 6.21,\n",
      "        \"deg\": 198,\n",
      "        \"gust\": 7.87\n",
      "    },\n",
      "    \"clouds\": {\n",
      "        \"all\": 100\n",
      "    },\n",
      "    \"dt\": 1644710469,\n",
      "    \"sys\": {\n",
      "        \"type\": 2,\n",
      "        \"id\": 2008959,\n",
      "        \"country\": \"NZ\",\n",
      "        \"sunrise\": 1644688612,\n",
      "        \"sunset\": 1644739507\n",
      "    },\n",
      "    \"timezone\": 46800,\n",
      "    \"id\": 2206939,\n",
      "    \"name\": \"Bluff\",\n",
      "    \"cod\": 200\n",
      "}\n",
      "Beginning Data Retrieval\n",
      "---------------------------------\n",
      "City not found. Skipping...\n",
      "Processing Record 1 | Busselton\n",
      "Processing Record 2 | Castro\n",
      "Processing Record 3 | Vanimo\n",
      "Processing Record 4 | Makkah al Mukarramah\n",
      "Processing Record 5 | Constitución\n",
      "Processing Record 6 | Saint Paul Harbor\n",
      "Processing Record 7 | Bredasdorp\n",
      "Processing Record 8 | Dikson\n",
      "City not found. Skipping...\n",
      "Processing Record 9 | Lebu\n",
      "Processing Record 10 | Luang Prabang\n",
      "Processing Record 11 | Atar\n",
      "Processing Record 12 | Rikitea\n",
      "Processing Record 13 | Nemuro\n",
      "Processing Record 14 | Huarmey\n",
      "Processing Record 15 | Broken Hill\n",
      "Processing Record 16 | Arrondissement de Saumur\n",
      "Processing Record 17 | Nizwá\n",
      "Processing Record 18 | Kholtoson\n",
      "Processing Record 19 | Lüderitz\n",
      "Processing Record 20 | St. George's\n",
      "Processing Record 21 | Jamestown\n",
      "Processing Record 22 | Moba\n",
      "City not found. Skipping...\n",
      "Processing Record 23 | Fortuna\n",
      "Processing Record 24 | Warkworth\n",
      "Processing Record 25 | Hobart\n",
      "Processing Record 26 | San Cristobal\n",
      "Processing Record 27 | Mount Gambier\n",
      "Processing Record 28 | Port Alfred\n",
      "Processing Record 29 | Kumul\n",
      "Processing Record 30 | Arrondissement de Bastia\n",
      "Processing Record 31 | Erzin\n",
      "City not found. Skipping...\n",
      "Processing Record 32 | Hermanus\n",
      "Processing Record 33 | Mar del Plata\n",
      "Processing Record 34 | Tuktoyaktuk\n",
      "Processing Record 35 | Barrow\n",
      "Processing Record 36 | Akonolinga\n",
      "Processing Record 37 | Jalu\n",
      "Processing Record 38 | Albany\n",
      "Processing Record 39 | Ambilobe\n",
      "Processing Record 40 | Mzimba\n",
      "Processing Record 41 | Ribeira Grande\n",
      "Processing Record 42 | Carnarvon\n",
      "Processing Record 43 | Ushuaia\n",
      "Processing Record 44 | Cape Town\n",
      "Processing Record 45 | Bluff\n",
      "Processing Record 46 | Khatanga\n",
      "Processing Record 47 | Kapaa\n",
      "Processing Record 48 | Kemin\n",
      "Processing Record 49 | Souillac\n",
      "Processing Record 50 | Nome\n",
      "Processing Record 51 | Gombong\n",
      "City not found. Skipping...\n",
      "Processing Record 52 | Arraial do Cabo\n",
      "Processing Record 53 | Katsuura\n",
      "Processing Record 54 | Zharkent\n",
      "Processing Record 55 | Yellowknife\n",
      "Processing Record 56 | Saravan\n",
      "Processing Record 57 | Hithadhoo\n",
      "City not found. Skipping...\n",
      "City not found. Skipping...\n",
      "Processing Record 58 | Port Macquarie\n",
      "Processing Record 59 | Ulladulla\n",
      "Processing Record 60 | Luorong\n",
      "Processing Record 61 | Chapais\n",
      "Processing Record 62 | Haines Junction\n",
      "Processing Record 63 | Fairbanks\n",
      "Processing Record 64 | Faanui\n",
      "Processing Record 65 | Kushiro\n",
      "Processing Record 66 | Yelizovo\n",
      "Processing Record 67 | Severo-Kuril'sk\n",
      "Processing Record 68 | Saint-Philippe\n",
      "Processing Record 69 | Vaini\n",
      "Processing Record 70 | Clyde River\n",
      "Processing Record 71 | Khandyga\n",
      "City not found. Skipping...\n",
      "Processing Record 72 | Puerto Ayora\n",
      "Processing Record 73 | Kautokeino\n",
      "Processing Record 74 | Tasiilaq\n",
      "Processing Record 75 | Punta Arenas\n",
      "Processing Record 76 | Saint-Augustin\n",
      "Processing Record 77 | Natal\n",
      "Processing Record 78 | Urengoy\n",
      "Processing Record 79 | Kati\n",
      "City not found. Skipping...\n",
      "Processing Record 80 | Georgiyevka\n",
      "City not found. Skipping...\n",
      "Processing Record 81 | Yining\n",
      "Processing Record 82 | Valparaíso\n",
      "Processing Record 83 | Syedove\n",
      "Processing Record 84 | Yerbogachën\n",
      "Processing Record 85 | São Filipe\n",
      "City not found. Skipping...\n",
      "Processing Record 86 | Longyearbyen\n",
      "Processing Record 87 | Sambava\n",
      "City not found. Skipping...\n",
      "Processing Record 88 | Qingdao\n",
      "Processing Record 89 | Tilichiki\n",
      "Processing Record 90 | Palmares\n",
      "Processing Record 91 | Uttarkāshi\n",
      "Processing Record 92 | Kabalo\n",
      "Processing Record 93 | Tuatapere\n",
      "Processing Record 94 | Lavrentiya\n",
      "Processing Record 95 | Aklavik\n",
      "Processing Record 96 | Kavieng\n",
      "Processing Record 97 | Inhambane\n",
      "City not found. Skipping...\n",
      "Processing Record 98 | Hong Kong\n",
      "Processing Record 99 | Pacific Grove\n",
      "Processing Record 100 | Thompson\n",
      "Processing Record 101 | Chiredzi\n",
      "Processing Record 102 | Vostok\n",
      "Processing Record 103 | Port Augusta\n",
      "Processing Record 104 | Nanortalik\n",
      "Processing Record 105 | Tateyama\n",
      "Processing Record 106 | Aasiaat\n",
      "Processing Record 107 | Cabo San Lucas\n",
      "Processing Record 108 | Vicuña\n",
      "City not found. Skipping...\n",
      "Processing Record 109 | Guerrero Negro\n",
      "Processing Record 110 | Westerland\n",
      "Processing Record 111 | Atuona\n",
      "Processing Record 112 | Lemont\n",
      "Processing Record 113 | Muncar\n",
      "Processing Record 114 | Sühbaatar\n",
      "Processing Record 115 | Le Chambon-Feugerolles\n",
      "Processing Record 116 | Pochutla\n",
      "Processing Record 117 | Mahébourg\n",
      "Processing Record 118 | Healdsburg\n",
      "Processing Record 119 | Butaritari\n",
      "Processing Record 120 | Vila Franca do Campo\n",
      "Processing Record 121 | Truckee\n",
      "Processing Record 122 | Vágur\n",
      "Processing Record 123 | Gravdal\n",
      "Processing Record 124 | Hilo\n",
      "Processing Record 125 | La Rioja\n",
      "Processing Record 126 | Nikel\n",
      "Processing Record 127 | Qaanaaq\n",
      "Processing Record 128 | Taoudenni\n",
      "Processing Record 129 | Kaitangata\n",
      "Processing Record 130 | Wuhu\n",
      "Processing Record 131 | Borkenes\n",
      "Processing Record 132 | New Norfolk\n",
      "Processing Record 133 | Ahipara\n",
      "Processing Record 134 | Nikolskoye\n",
      "Processing Record 135 | Lagoa\n",
      "Processing Record 136 | Kununurra\n",
      "Processing Record 137 | George Town\n",
      "Processing Record 138 | Chui\n",
      "City not found. Skipping...\n",
      "Processing Record 139 | Burnie\n",
      "Processing Record 140 | Pangai\n",
      "Processing Record 141 | Aberdeen\n",
      "Processing Record 142 | Borogontsy\n",
      "Processing Record 143 | Waipawa\n",
      "Processing Record 144 | Klyuchi\n",
      "Processing Record 145 | East London\n",
      "Processing Record 146 | Zhezkazgan\n",
      "Processing Record 147 | Codrington\n",
      "Processing Record 148 | Cherskiy\n",
      "Processing Record 149 | Bethel\n",
      "Processing Record 150 | Ust'-Omchug\n",
      "City not found. Skipping...\n",
      "Processing Record 151 | Westport\n",
      "Processing Record 152 | Hasaki\n",
      "Processing Record 153 | Nicoya\n",
      "Processing Record 154 | Necochea\n",
      "Processing Record 155 | Saint Anthony\n",
      "Processing Record 156 | George\n",
      "Processing Record 157 | Kyzyl-Suu\n",
      "Processing Record 158 | Guozhen\n",
      "City not found. Skipping...\n",
      "Processing Record 159 | Shahrud\n",
      "Processing Record 160 | Omīdīyeh\n",
      "Processing Record 161 | Leh\n",
      "City not found. Skipping...\n",
      "Processing Record 162 | Itarema\n",
      "Processing Record 163 | São Félix do Xingu\n",
      "Processing Record 164 | Vellmar\n",
      "Processing Record 165 | Lensk\n",
      "Processing Record 166 | Santa Isabel\n",
      "Processing Record 167 | Ancud\n",
      "Processing Record 168 | Zhigansk\n",
      "Processing Record 169 | Avarua\n",
      "Processing Record 170 | Mindelo\n",
      "Processing Record 171 | Tevaitoa\n",
      "Processing Record 172 | Anzio\n",
      "Processing Record 173 | Bubaque\n",
      "Processing Record 174 | Port Elizabeth\n",
      "Processing Record 175 | Payakumbuh\n",
      "Processing Record 176 | Beringovskiy\n",
      "Processing Record 177 | San Patricio\n",
      "Processing Record 178 | Ostrovnoy\n",
      "Processing Record 179 | Staffanstorp\n",
      "Processing Record 180 | Ozinki\n",
      "Processing Record 181 | Mossamedes\n",
      "Processing Record 182 | ‘Ewa Beach\n",
      "Processing Record 183 | Sabang\n",
      "Processing Record 184 | Bengkulu\n",
      "Processing Record 185 | Monrovia\n",
      "Processing Record 186 | College\n",
      "Processing Record 187 | Erice\n",
      "Processing Record 188 | Sri Aman\n",
      "Processing Record 189 | Colares\n",
      "Processing Record 190 | Sattahip\n",
      "Processing Record 191 | Edd\n",
      "Processing Record 192 | Koróni\n",
      "Processing Record 193 | Hayden\n",
      "Processing Record 194 | Mataura\n",
      "Processing Record 195 | Bilibino\n",
      "Processing Record 196 | Fukuechō\n",
      "Processing Record 197 | Vardø\n",
      "Processing Record 198 | Kloulklubed\n",
      "City not found. Skipping...\n",
      "Processing Record 199 | Kulhudhuffushi\n",
      "Processing Record 200 | Butterworth\n",
      "Processing Record 201 | Chabahar\n",
      "Processing Record 202 | Chul'man\n",
      "Processing Record 203 | Manavālakurichi\n",
      "Processing Record 204 | Tiksi\n",
      "Processing Record 205 | Arieşeni\n",
      "Processing Record 206 | Olinda\n",
      "Processing Record 207 | Kruisfontein\n",
      "Processing Record 208 | Iquique\n",
      "Processing Record 209 | Urtenen\n",
      "Processing Record 210 | Vad\n",
      "Processing Record 211 | Kieta\n",
      "City not found. Skipping...\n",
      "Processing Record 212 | Saint George\n",
      "Processing Record 213 | Provideniya\n",
      "Processing Record 214 | Rocha\n",
      "Processing Record 215 | Mountain Home\n",
      "Processing Record 216 | Upernavik\n",
      "Processing Record 217 | Adrar\n",
      "Processing Record 218 | Les Cayes\n",
      "Processing Record 219 | Palmer\n",
      "Processing Record 220 | Kevsala\n",
      "Processing Record 221 | Arlit\n",
      "Processing Record 222 | Ilulissat\n",
      "Processing Record 223 | Buraidah\n",
      "City not found. Skipping...\n",
      "Processing Record 224 | Kenderes\n",
      "Processing Record 225 | Esperance\n",
      "Processing Record 226 | Boende\n",
      "Processing Record 227 | Tupiza\n",
      "Processing Record 228 | Stokmarknes\n",
      "Processing Record 229 | Pevek\n",
      "Processing Record 230 | Oyama\n",
      "Processing Record 231 | Morondava\n",
      "Processing Record 232 | Lagos\n",
      "Processing Record 233 | Ponta do Sol\n",
      "Processing Record 234 | Hofn\n",
      "Processing Record 235 | Bundaberg\n",
      "Processing Record 236 | Saldanha\n",
      "Processing Record 237 | Taltal\n",
      "Processing Record 238 | Trofors\n",
      "Processing Record 239 | Iqaluit\n",
      "Processing Record 240 | Torbay\n",
      "Processing Record 241 | Djambala\n",
      "Processing Record 242 | Mount Isa\n",
      "Processing Record 243 | Forsytheganj\n",
      "Processing Record 244 | Nabire\n",
      "Processing Record 245 | Sítio Novo do Tocantins\n",
      "Processing Record 246 | Churapcha\n",
      "Processing Record 247 | Laas\n",
      "City not found. Skipping...\n",
      "Processing Record 248 | Geraldton\n",
      "Processing Record 249 | Takoradze\n",
      "Processing Record 250 | Saskylakh\n",
      "Processing Record 251 | Polunochnoye\n",
      "Processing Record 252 | Mezen'\n",
      "Processing Record 253 | Cayenne\n",
      "Processing Record 254 | Touros\n",
      "Processing Record 255 | Aswān\n",
      "Processing Record 256 | Tiznit Province\n",
      "Processing Record 257 | Izhma\n",
      "Processing Record 258 | Talnakh\n",
      "Processing Record 259 | Ranong\n",
      "Processing Record 260 | Sørland\n",
      "Processing Record 261 | Kuli\n",
      "Processing Record 262 | Saint-Pierre\n",
      "Processing Record 263 | Qaqortoq\n",
      "Processing Record 264 | Bambous Virieux\n",
      "City not found. Skipping...\n",
      "Processing Record 265 | Sechura\n",
      "Processing Record 266 | Ugoofaaru\n",
      "City not found. Skipping...\n",
      "Processing Record 267 | Tabory\n",
      "Processing Record 268 | Hirson\n",
      "Processing Record 269 | Riyadh\n",
      "Processing Record 270 | Manokwari\n",
      "Processing Record 271 | Bathsheba\n",
      "Processing Record 272 | Mwense\n",
      "City not found. Skipping...\n",
      "Processing Record 273 | Pilar\n",
      "Processing Record 274 | Cabinda\n",
      "Processing Record 275 | La Ronge\n",
      "Processing Record 276 | Husavik\n",
      "Processing Record 277 | Acapulco de Juárez\n",
      "Processing Record 278 | Klaksvík\n",
      "Processing Record 279 | Zhalantun\n",
      "Processing Record 280 | Kumaliskis\n",
      "Processing Record 281 | Ciudad Sabinas Hidalgo\n",
      "City not found. Skipping...\n",
      "Processing Record 282 | Pisco\n",
      "City not found. Skipping...\n",
      "Processing Record 283 | Pacifica\n",
      "Processing Record 284 | Angoram\n",
      "Processing Record 285 | Pangnirtung\n",
      "Processing Record 286 | Gamba\n",
      "Processing Record 287 | Muaná\n",
      "Processing Record 288 | Norman Wells\n",
      "Processing Record 289 | Balaipungut\n",
      "Processing Record 290 | Shingū\n",
      "Processing Record 291 | Yulara\n",
      "Processing Record 292 | Rāvar\n",
      "Processing Record 293 | Okhotsk\n",
      "Processing Record 294 | Areia Branca\n",
      "Processing Record 295 | Abay\n",
      "Processing Record 296 | Canmore\n",
      "Processing Record 297 | Ridgecrest\n",
      "Processing Record 298 | Lexington\n",
      "Processing Record 299 | Alofi\n",
      "Processing Record 300 | Christchurch\n",
      "Processing Record 301 | Bermejo\n",
      "Processing Record 302 | Oranjemund\n",
      "Processing Record 303 | Mastic Beach\n",
      "Processing Record 304 | Mayskiy\n",
      "Processing Record 305 | Airai\n",
      "Processing Record 306 | Ulaangom\n",
      "Processing Record 307 | Vestmannaeyjar\n",
      "Processing Record 308 | Novyy Urgal\n",
      "City not found. Skipping...\n",
      "Processing Record 309 | Mingshui\n",
      "Processing Record 310 | Monaghan\n",
      "Processing Record 311 | Şabrātah\n",
      "Processing Record 312 | Wu’an\n",
      "Processing Record 313 | Biak\n",
      "Processing Record 314 | Kisarawe\n",
      "Processing Record 315 | Sur\n",
      "Processing Record 316 | Yangi Marg`ilon\n",
      "City not found. Skipping...\n",
      "Processing Record 317 | Ust-Tsilma\n",
      "Processing Record 318 | Diamantino\n",
      "Processing Record 319 | Gijang\n",
      "Processing Record 320 | Antofagasta\n",
      "Processing Record 321 | Wewak\n",
      "Processing Record 322 | Zambezi\n",
      "Processing Record 323 | Los Llanos de Aridane\n",
      "Processing Record 324 | Potenza\n",
      "City not found. Skipping...\n",
      "Processing Record 325 | Grindavik\n",
      "Processing Record 326 | Vilyuysk\n",
      "Processing Record 327 | Narsaq\n",
      "Processing Record 328 | Sussex\n",
      "Processing Record 329 | Caravelas\n",
      "Processing Record 330 | Anamur\n",
      "Processing Record 331 | At-Bashi\n",
      "Processing Record 332 | Tubualá\n",
      "City not found. Skipping...\n",
      "Processing Record 333 | Praia da Vitória\n",
      "Processing Record 334 | Dingle\n",
      "Processing Record 335 | Paphos\n",
      "City not found. Skipping...\n",
      "Processing Record 336 | Dhidhdhoo\n",
      "Processing Record 337 | Goshen\n",
      "Processing Record 338 | Raudeberg\n",
      "Processing Record 339 | Wairoa\n",
      "Processing Record 340 | Villazón\n",
      "Processing Record 341 | Chicama\n",
      "Processing Record 342 | Oberá\n",
      "Processing Record 343 | Omboué\n",
      "Processing Record 344 | Aykhal\n",
      "Processing Record 345 | São João da Barra\n",
      "Processing Record 346 | Jacmel\n",
      "Processing Record 347 | Callaway\n",
      "Processing Record 348 | Srednekolymsk\n",
      "Processing Record 349 | Kiryat Gat\n",
      "City not found. Skipping...\n",
      "Processing Record 350 | Kholmogory\n",
      "Processing Record 351 | Alyangula\n",
      "Processing Record 352 | Coyhaique\n",
      "Processing Record 353 | Praia\n",
      "City not found. Skipping...\n",
      "Processing Record 354 | Batemans Bay\n",
      "Processing Record 355 | Egvekinot\n",
      "City not found. Skipping...\n",
      "Processing Record 356 | Mehamn\n",
      "Processing Record 357 | Altay\n",
      "Processing Record 358 | Kadnikov\n",
      "Processing Record 359 | Dalbandin\n",
      "Processing Record 360 | Mayumba\n",
      "Processing Record 361 | Wanning\n",
      "Processing Record 362 | Kirakira\n",
      "Processing Record 363 | Alice Springs\n",
      "Processing Record 364 | Rehoboth\n",
      "Processing Record 365 | Samarai\n",
      "Processing Record 366 | Mnogovershinnyy\n",
      "Processing Record 367 | Tabas\n",
      "Processing Record 368 | Yamethin\n",
      "Processing Record 369 | Meulaboh\n",
      "Processing Record 370 | Pokhara\n",
      "Processing Record 371 | Sibut\n",
      "Processing Record 372 | Pāli\n",
      "Processing Record 373 | Laguna\n",
      "Processing Record 374 | Naze\n",
      "Processing Record 375 | Gornopravdinsk\n",
      "Processing Record 376 | Labuhan\n",
      "Processing Record 377 | Vangaindrano\n",
      "Processing Record 378 | São Luiz Gonzaga\n",
      "Processing Record 379 | The Valley\n",
      "Processing Record 380 | Quryq\n",
      "Processing Record 381 | Camabatela\n",
      "Processing Record 382 | Dagana\n",
      "Processing Record 383 | Hirara\n",
      "Processing Record 384 | Al Bardīyah\n",
      "Processing Record 385 | Turukhansk\n",
      "Processing Record 386 | Chokurdakh\n",
      "Processing Record 387 | Verkhnyaya Inta\n",
      "Processing Record 388 | Prince Rupert\n",
      "Processing Record 389 | Villa Corzo\n",
      "Processing Record 390 | Cabedelo\n",
      "City not found. Skipping...\n",
      "Processing Record 391 | Guatire\n",
      "Processing Record 392 | Mogadishu\n",
      "Processing Record 393 | Kamina\n",
      "Processing Record 394 | Rosarito\n",
      "Processing Record 395 | Manicoré\n",
      "Processing Record 396 | Juradó\n",
      "Processing Record 397 | Mahibadhoo\n",
      "Processing Record 398 | Oxelösund\n",
      "Processing Record 399 | Chifeng\n",
      "Processing Record 400 | Polewali\n",
      "Processing Record 401 | Bafoulabé\n",
      "Processing Record 402 | Manacapuru\n",
      "Processing Record 403 | Nouakchott\n",
      "Processing Record 404 | Santa María del Oro\n",
      "City not found. Skipping...\n",
      "City not found. Skipping...\n",
      "City not found. Skipping...\n",
      "Processing Record 405 | Musoma\n",
      "City not found. Skipping...\n",
      "Processing Record 406 | Correntina\n",
      "Processing Record 407 | Mugur-Aksy\n",
      "City not found. Skipping...\n",
      "Processing Record 408 | Maniitsoq\n",
      "Processing Record 409 | Hualmay\n",
      "Processing Record 410 | Akçaabat\n",
      "Processing Record 411 | Taseyevo\n",
      "Processing Record 412 | Korla\n",
      "Processing Record 413 | Huilong\n",
      "Processing Record 414 | Lokosovo\n",
      "Processing Record 415 | Maputo\n",
      "Processing Record 416 | Sokol\n",
      "Processing Record 417 | Broome\n",
      "Processing Record 418 | Ambanja\n",
      "Processing Record 419 | Lompoc\n",
      "Processing Record 420 | Kroya\n",
      "Processing Record 421 | Fene\n",
      "Processing Record 422 | Opuwo\n",
      "City not found. Skipping...\n",
      "Processing Record 423 | Pullman\n",
      "Processing Record 424 | Gaza\n",
      "Processing Record 425 | Whitehorse\n",
      "Processing Record 426 | Port Lincoln\n",
      "Processing Record 427 | Yashkul'\n",
      "Processing Record 428 | Padang\n",
      "Processing Record 429 | Upata\n",
      "Processing Record 430 | Solnechnyy\n",
      "Processing Record 431 | Isangel\n",
      "Processing Record 432 | Khuzdar\n",
      "Processing Record 433 | Samoylovka\n",
      "Processing Record 434 | Ténenkou\n",
      "Processing Record 435 | Loandjili\n",
      "Processing Record 436 | Øksfjord\n",
      "Processing Record 437 | Alta Floresta\n",
      "Processing Record 438 | Kuala Terengganu\n",
      "Processing Record 439 | Akmenė\n",
      "Processing Record 440 | Saint-François\n",
      "Processing Record 441 | San Quintín\n",
      "Processing Record 442 | Tutóia\n",
      "Processing Record 443 | Palestine\n",
      "Processing Record 444 | North Bend\n",
      "Processing Record 445 | Deputatsky\n",
      "Processing Record 446 | Lavumisa\n",
      "Processing Record 447 | Arman'\n",
      "Processing Record 448 | Margate\n",
      "Processing Record 449 | Paita\n",
      "Processing Record 450 | Caranavi\n",
      "Processing Record 451 | Hachinohe\n",
      "Processing Record 452 | Rome\n",
      "Processing Record 453 | Leningradskiy\n",
      "Processing Record 454 | Coquimbo\n",
      "Processing Record 455 | Pedasí\n",
      "Processing Record 456 | Ternate\n",
      "Processing Record 457 | Aranos\n",
      "Processing Record 458 | Evensk\n",
      "City not found. Skipping...\n",
      "Processing Record 459 | Ishigaki\n",
      "Processing Record 460 | Maragheh\n",
      "Processing Record 461 | Eureka\n",
      "Processing Record 462 | Praxédis Guerrero\n",
      "Processing Record 463 | Dunedin\n",
      "Processing Record 464 | Sesheke\n",
      "Processing Record 465 | Inírida\n",
      "Processing Record 466 | Yarim\n",
      "Processing Record 467 | Tinskoy\n",
      "Processing Record 468 | Dongsheng\n",
      "Processing Record 469 | Khovd\n",
      "Processing Record 470 | Amahai\n",
      "Processing Record 471 | Sobolevo\n",
      "Processing Record 472 | Nara\n",
      "Processing Record 473 | Salinas\n",
      "Processing Record 474 | Jinxi\n",
      "Processing Record 475 | Medford\n",
      "Processing Record 476 | Sistranda\n",
      "Processing Record 477 | Batagay\n",
      "City not found. Skipping...\n",
      "Processing Record 478 | Charters Towers\n",
      "Processing Record 479 | Yatou\n",
      "Processing Record 480 | Catalina\n",
      "Processing Record 481 | Linjiang\n",
      "Processing Record 482 | Udachny\n",
      "Processing Record 483 | Marawi\n",
      "Processing Record 484 | Manta\n",
      "Processing Record 485 | Plettenberg Bay\n",
      "Processing Record 486 | Plainview\n",
      "Processing Record 487 | Azoyú\n",
      "Processing Record 488 | Litija\n",
      "Processing Record 489 | Promyshlennyy\n",
      "Processing Record 490 | Xingyi\n",
      "Processing Record 491 | Gimli\n",
      "Processing Record 492 | Kwekwe\n",
      "Processing Record 493 | Najrān\n",
      "Processing Record 494 | Santa Flavia\n",
      "Processing Record 495 | Batagay-Alyta\n",
      "Processing Record 496 | Letychiv\n",
      "City not found. Skipping...\n",
      "Processing Record 497 | Buchanan\n",
      "Processing Record 498 | Kokorevka\n",
      "Processing Record 499 | Vao\n",
      "Processing Record 500 | Umluj\n",
      "Processing Record 501 | Luanda\n",
      "Processing Record 502 | Creston\n",
      "Processing Record 503 | Wiang Sa\n",
      "Processing Record 504 | Grants\n",
      "Processing Record 505 | Ayan\n",
      "Processing Record 506 | Rabūpura\n",
      "Processing Record 507 | Tres Arroyos\n",
      "Processing Record 508 | North Battleford\n",
      "Processing Record 509 | Waynesville\n",
      "City not found. Skipping...\n",
      "Processing Record 510 | Sitka\n",
      "Processing Record 511 | Paengaroa\n",
      "Processing Record 512 | Guiyang\n",
      "Processing Record 513 | Jiancheng\n",
      "Processing Record 514 | Gari\n",
      "Processing Record 515 | Dolni Dabnik\n",
      "Processing Record 516 | Imeni Poliny Osipenko\n",
      "Processing Record 517 | Avera\n",
      "Processing Record 518 | Semīrom\n",
      "Processing Record 519 | Rio Grande\n",
      "Processing Record 520 | Yurimaguas\n",
      "Processing Record 521 | Guarujá\n",
      "Processing Record 522 | Luangwa\n",
      "Processing Record 523 | Beloha\n",
      "Processing Record 524 | Asău\n",
      "Processing Record 525 | Mackay\n",
      "City not found. Skipping...\n",
      "Processing Record 526 | Dukat\n",
      "Processing Record 527 | Lata\n",
      "Processing Record 528 | Antalaha\n",
      "Processing Record 529 | Orlik\n",
      "Processing Record 530 | Shancheng\n",
      "Processing Record 531 | Villa Carlos Paz\n",
      "Processing Record 532 | Bikaner\n",
      "Processing Record 533 | Puerto Quijarro\n",
      "Processing Record 534 | Porto Velho\n",
      "Processing Record 535 | Berbérati\n",
      "Processing Record 536 | Mt. Pleasant\n",
      "Processing Record 537 | Yizheng\n",
      "Processing Record 538 | Harwich\n",
      "Processing Record 539 | Mil'kovo\n",
      "Processing Record 540 | Birao\n",
      "Processing Record 541 | Cidreira\n",
      "Processing Record 542 | Severomuysk\n",
      "Processing Record 543 | Ibipeba\n",
      "Processing Record 544 | Hambantota\n",
      "Processing Record 545 | Bowmore\n",
      "Processing Record 546 | Dukhovshchina\n",
      "Processing Record 547 | Kenai\n",
      "Processing Record 548 | Cortland\n",
      "Processing Record 549 | Wad Rāwah\n",
      "Processing Record 550 | Pangkalanbuun\n",
      "Processing Record 551 | Channel-Port aux Basques\n",
      "City not found. Skipping...\n",
      "City not found. Skipping...\n",
      "Processing Record 552 | Wau\n",
      "Processing Record 553 | Quirinópolis\n",
      "Processing Record 554 | Wagar\n",
      "City not found. Skipping...\n",
      "Processing Record 555 | Chardara\n",
      "Processing Record 556 | Nobres\n",
      "Processing Record 557 | Xichang\n",
      "Processing Record 558 | Karpathos\n",
      "Processing Record 559 | Lieksa\n",
      "Processing Record 560 | Washington\n",
      "Processing Record 561 | Sabha\n",
      "Processing Record 562 | Cuapiaxtla\n",
      "Processing Record 563 | Give\n",
      "City not found. Skipping...\n",
      "Processing Record 564 | Serenje\n",
      "Processing Record 565 | Lethem\n",
      "Processing Record 566 | Oodweyne\n",
      "Processing Record 567 | Hohhot\n",
      "Processing Record 568 | Khvorostyanka\n",
      "Processing Record 569 | Los Alamos\n",
      "Processing Record 570 | Kolokani\n",
      "Processing Record 571 | Barra Patuca\n",
      "Processing Record 572 | Pierre\n",
      "Processing Record 573 | Dillon\n",
      "Processing Record 574 | Sal Rei\n",
      "Processing Record 575 | Kiama\n",
      "Processing Record 576 | Slave Lake\n",
      "Processing Record 577 | Innisfail\n",
      "Processing Record 578 | Dzhebariki-Khaya\n",
      "Processing Record 579 | Tandil\n",
      "Processing Record 580 | Kendari\n",
      "Processing Record 581 | Phan Thiet\n",
      "Processing Record 582 | Hamilton\n",
      "----------------------------------\n",
      "Data Retrieval Complete\n",
      "----------------------------------\n"
     ]
    }
   ],
   "source": [
    "url = \"http://api.openweathermap.org/data/2.5/weather?\"\n",
    "units = \"metric\"\n",
    "query_url = f\"{url}appid={weather_api_key}&units={units}&q=\"\n",
    "weather_response = requests.get(query_url + city)\n",
    "weather_json = weather_response.json()\n",
    "print(json.dumps(weather_json, indent=4))\n",
    "\n",
    "city_name = []\n",
    "latitude = []\n",
    "longitude = []\n",
    "temperature = []\n",
    "humidity = []\n",
    "cloudiness = []\n",
    "wind_speed = []\n",
    "country = []\n",
    "date = []\n",
    "\n",
    "processing_record = 1 \n",
    "\n",
    "print(f\"Beginning Data Retrieval\")\n",
    "print(f\"---------------------------------\")\n",
    "\n",
    "# Loop through each city\n",
    "for city in cities:\n",
    "    \n",
    "    # try to get the response for each city\n",
    "    try:\n",
    "        response = requests.get(query_url + city).json()\n",
    "        city_name.append(response[\"name\"])\n",
    "        latitude.append(response[\"coord\"][\"lat\"])\n",
    "        longitude.append(response[\"coord\"][\"lon\"])\n",
    "        temperature.append(response[\"main\"][\"temp\"])\n",
    "        humidity.append(response[\"main\"][\"humidity\"])\n",
    "        cloudiness.append(response[\"clouds\"][\"all\"])\n",
    "        wind_speed.append(response[\"wind\"][\"speed\"])\n",
    "        country.append(response[\"sys\"][\"country\"])\n",
    "        date.append(response[\"dt\"])\n",
    "        city_record = response[\"name\"]\n",
    "        print(f\"Processing Record {processing_record} | {city_record}\")\n",
    "        \n",
    "        # increase record counting by 1\n",
    "        processing_record += 1\n",
    "        \n",
    "    except:\n",
    "        print(\"City not found. Skipping...\") \n",
    "    pass\n",
    "\n",
    "print(f\"----------------------------------\")\n",
    "print(f\"Data Retrieval Complete\")\n",
    "print(f\"----------------------------------\")"
   ]
  },
  {
   "cell_type": "markdown",
   "metadata": {},
   "source": [
    "### Convert Raw Data to DataFrame\n",
    "* Export the city data into a .csv.\n",
    "* Display the DataFrame"
   ]
  },
  {
   "cell_type": "code",
   "execution_count": 60,
   "metadata": {},
   "outputs": [
    {
     "data": {
      "text/html": [
       "<div>\n",
       "<style scoped>\n",
       "    .dataframe tbody tr th:only-of-type {\n",
       "        vertical-align: middle;\n",
       "    }\n",
       "\n",
       "    .dataframe tbody tr th {\n",
       "        vertical-align: top;\n",
       "    }\n",
       "\n",
       "    .dataframe thead th {\n",
       "        text-align: right;\n",
       "    }\n",
       "</style>\n",
       "<table border=\"1\" class=\"dataframe\">\n",
       "  <thead>\n",
       "    <tr style=\"text-align: right;\">\n",
       "      <th></th>\n",
       "      <th>City</th>\n",
       "      <th>Latitude</th>\n",
       "      <th>Longitude</th>\n",
       "      <th>Temp</th>\n",
       "      <th>Humidity</th>\n",
       "      <th>Cloudiness</th>\n",
       "      <th>Wind Speed</th>\n",
       "      <th>Country</th>\n",
       "      <th>Date</th>\n",
       "    </tr>\n",
       "  </thead>\n",
       "  <tbody>\n",
       "    <tr>\n",
       "      <th>0</th>\n",
       "      <td>Busselton</td>\n",
       "      <td>-33.6500</td>\n",
       "      <td>115.3333</td>\n",
       "      <td>17.80</td>\n",
       "      <td>60</td>\n",
       "      <td>0</td>\n",
       "      <td>5.69</td>\n",
       "      <td>AU</td>\n",
       "      <td>1644710528</td>\n",
       "    </tr>\n",
       "    <tr>\n",
       "      <th>1</th>\n",
       "      <td>Castro</td>\n",
       "      <td>-24.7911</td>\n",
       "      <td>-50.0119</td>\n",
       "      <td>17.73</td>\n",
       "      <td>69</td>\n",
       "      <td>32</td>\n",
       "      <td>2.87</td>\n",
       "      <td>BR</td>\n",
       "      <td>1644710260</td>\n",
       "    </tr>\n",
       "    <tr>\n",
       "      <th>2</th>\n",
       "      <td>Vanimo</td>\n",
       "      <td>-2.6741</td>\n",
       "      <td>141.3028</td>\n",
       "      <td>27.46</td>\n",
       "      <td>80</td>\n",
       "      <td>70</td>\n",
       "      <td>1.27</td>\n",
       "      <td>PG</td>\n",
       "      <td>1644710528</td>\n",
       "    </tr>\n",
       "    <tr>\n",
       "      <th>3</th>\n",
       "      <td>Makkah al Mukarramah</td>\n",
       "      <td>21.4267</td>\n",
       "      <td>39.8261</td>\n",
       "      <td>21.80</td>\n",
       "      <td>30</td>\n",
       "      <td>0</td>\n",
       "      <td>5.98</td>\n",
       "      <td>SA</td>\n",
       "      <td>1644710029</td>\n",
       "    </tr>\n",
       "    <tr>\n",
       "      <th>4</th>\n",
       "      <td>Constitución</td>\n",
       "      <td>-35.3333</td>\n",
       "      <td>-72.4167</td>\n",
       "      <td>16.01</td>\n",
       "      <td>82</td>\n",
       "      <td>1</td>\n",
       "      <td>3.13</td>\n",
       "      <td>CL</td>\n",
       "      <td>1644710456</td>\n",
       "    </tr>\n",
       "    <tr>\n",
       "      <th>...</th>\n",
       "      <td>...</td>\n",
       "      <td>...</td>\n",
       "      <td>...</td>\n",
       "      <td>...</td>\n",
       "      <td>...</td>\n",
       "      <td>...</td>\n",
       "      <td>...</td>\n",
       "      <td>...</td>\n",
       "      <td>...</td>\n",
       "    </tr>\n",
       "    <tr>\n",
       "      <th>577</th>\n",
       "      <td>Dzhebariki-Khaya</td>\n",
       "      <td>62.2167</td>\n",
       "      <td>135.8000</td>\n",
       "      <td>-36.03</td>\n",
       "      <td>100</td>\n",
       "      <td>100</td>\n",
       "      <td>0.70</td>\n",
       "      <td>RU</td>\n",
       "      <td>1644710691</td>\n",
       "    </tr>\n",
       "    <tr>\n",
       "      <th>578</th>\n",
       "      <td>Tandil</td>\n",
       "      <td>-37.3217</td>\n",
       "      <td>-59.1332</td>\n",
       "      <td>12.39</td>\n",
       "      <td>62</td>\n",
       "      <td>5</td>\n",
       "      <td>3.10</td>\n",
       "      <td>AR</td>\n",
       "      <td>1644710692</td>\n",
       "    </tr>\n",
       "    <tr>\n",
       "      <th>579</th>\n",
       "      <td>Kendari</td>\n",
       "      <td>-3.9450</td>\n",
       "      <td>122.4989</td>\n",
       "      <td>23.73</td>\n",
       "      <td>94</td>\n",
       "      <td>100</td>\n",
       "      <td>1.99</td>\n",
       "      <td>ID</td>\n",
       "      <td>1644710692</td>\n",
       "    </tr>\n",
       "    <tr>\n",
       "      <th>580</th>\n",
       "      <td>Phan Thiet</td>\n",
       "      <td>10.9333</td>\n",
       "      <td>108.1000</td>\n",
       "      <td>24.63</td>\n",
       "      <td>73</td>\n",
       "      <td>63</td>\n",
       "      <td>2.89</td>\n",
       "      <td>VN</td>\n",
       "      <td>1644710514</td>\n",
       "    </tr>\n",
       "    <tr>\n",
       "      <th>581</th>\n",
       "      <td>Hamilton</td>\n",
       "      <td>39.1834</td>\n",
       "      <td>-84.5333</td>\n",
       "      <td>-2.64</td>\n",
       "      <td>76</td>\n",
       "      <td>100</td>\n",
       "      <td>4.12</td>\n",
       "      <td>US</td>\n",
       "      <td>1644710692</td>\n",
       "    </tr>\n",
       "  </tbody>\n",
       "</table>\n",
       "<p>582 rows × 9 columns</p>\n",
       "</div>"
      ],
      "text/plain": [
       "                     City  Latitude  Longitude   Temp  Humidity  Cloudiness  \\\n",
       "0               Busselton  -33.6500   115.3333  17.80        60           0   \n",
       "1                  Castro  -24.7911   -50.0119  17.73        69          32   \n",
       "2                  Vanimo   -2.6741   141.3028  27.46        80          70   \n",
       "3    Makkah al Mukarramah   21.4267    39.8261  21.80        30           0   \n",
       "4            Constitución  -35.3333   -72.4167  16.01        82           1   \n",
       "..                    ...       ...        ...    ...       ...         ...   \n",
       "577      Dzhebariki-Khaya   62.2167   135.8000 -36.03       100         100   \n",
       "578                Tandil  -37.3217   -59.1332  12.39        62           5   \n",
       "579               Kendari   -3.9450   122.4989  23.73        94         100   \n",
       "580            Phan Thiet   10.9333   108.1000  24.63        73          63   \n",
       "581              Hamilton   39.1834   -84.5333  -2.64        76         100   \n",
       "\n",
       "     Wind Speed Country        Date  \n",
       "0          5.69      AU  1644710528  \n",
       "1          2.87      BR  1644710260  \n",
       "2          1.27      PG  1644710528  \n",
       "3          5.98      SA  1644710029  \n",
       "4          3.13      CL  1644710456  \n",
       "..          ...     ...         ...  \n",
       "577        0.70      RU  1644710691  \n",
       "578        3.10      AR  1644710692  \n",
       "579        1.99      ID  1644710692  \n",
       "580        2.89      VN  1644710514  \n",
       "581        4.12      US  1644710692  \n",
       "\n",
       "[582 rows x 9 columns]"
      ]
     },
     "execution_count": 60,
     "metadata": {},
     "output_type": "execute_result"
    }
   ],
   "source": [
    "# create dataframe\n",
    "weather_data = {\n",
    "    \"City\": city_name,\n",
    "    \"Latitude\": latitude,\n",
    "    \"Longitude\": longitude,\n",
    "    \"Temp\": temperature,\n",
    "    \"Humidity\": humidity,\n",
    "    \"Cloudiness\": cloudiness,\n",
    "    \"Wind Speed\": wind_speed,\n",
    "    \"Country\": country,\n",
    "    \"Date\": date,\n",
    "}\n",
    "\n",
    "weather_DF = pd.DataFrame(weather_data)\n",
    "weather_DF.to_csv(\"Weather_Output.csv\")\n",
    "\n",
    "# display dataframe\n",
    "weather_DF"
   ]
  },
  {
   "cell_type": "code",
   "execution_count": 61,
   "metadata": {},
   "outputs": [
    {
     "data": {
      "text/html": [
       "<div>\n",
       "<style scoped>\n",
       "    .dataframe tbody tr th:only-of-type {\n",
       "        vertical-align: middle;\n",
       "    }\n",
       "\n",
       "    .dataframe tbody tr th {\n",
       "        vertical-align: top;\n",
       "    }\n",
       "\n",
       "    .dataframe thead th {\n",
       "        text-align: right;\n",
       "    }\n",
       "</style>\n",
       "<table border=\"1\" class=\"dataframe\">\n",
       "  <thead>\n",
       "    <tr style=\"text-align: right;\">\n",
       "      <th></th>\n",
       "      <th>City</th>\n",
       "      <th>Latitude</th>\n",
       "      <th>Longitude</th>\n",
       "      <th>Temp</th>\n",
       "      <th>Humidity</th>\n",
       "      <th>Cloudiness</th>\n",
       "      <th>Wind Speed</th>\n",
       "      <th>Country</th>\n",
       "      <th>Date</th>\n",
       "    </tr>\n",
       "  </thead>\n",
       "  <tbody>\n",
       "    <tr>\n",
       "      <th>count</th>\n",
       "      <td>582</td>\n",
       "      <td>582.000000</td>\n",
       "      <td>582.000000</td>\n",
       "      <td>582.000000</td>\n",
       "      <td>582.000000</td>\n",
       "      <td>582.000000</td>\n",
       "      <td>582.000000</td>\n",
       "      <td>582</td>\n",
       "      <td>5.820000e+02</td>\n",
       "    </tr>\n",
       "    <tr>\n",
       "      <th>mean</th>\n",
       "      <td>NaN</td>\n",
       "      <td>21.175698</td>\n",
       "      <td>21.016526</td>\n",
       "      <td>8.542749</td>\n",
       "      <td>74.890034</td>\n",
       "      <td>61.307560</td>\n",
       "      <td>3.269192</td>\n",
       "      <td>NaN</td>\n",
       "      <td>1.644711e+09</td>\n",
       "    </tr>\n",
       "    <tr>\n",
       "      <th>std</th>\n",
       "      <td>NaN</td>\n",
       "      <td>33.447826</td>\n",
       "      <td>90.101396</td>\n",
       "      <td>17.778443</td>\n",
       "      <td>20.944027</td>\n",
       "      <td>39.208607</td>\n",
       "      <td>2.352928</td>\n",
       "      <td>NaN</td>\n",
       "      <td>8.516909e+01</td>\n",
       "    </tr>\n",
       "    <tr>\n",
       "      <th>min</th>\n",
       "      <td>Aasiaat</td>\n",
       "      <td>-54.800000</td>\n",
       "      <td>-179.166700</td>\n",
       "      <td>-39.890000</td>\n",
       "      <td>9.000000</td>\n",
       "      <td>0.000000</td>\n",
       "      <td>0.000000</td>\n",
       "      <td>AI</td>\n",
       "      <td>1.644710e+09</td>\n",
       "    </tr>\n",
       "    <tr>\n",
       "      <th>max</th>\n",
       "      <td>‘Ewa Beach</td>\n",
       "      <td>78.218600</td>\n",
       "      <td>179.316700</td>\n",
       "      <td>32.060000</td>\n",
       "      <td>100.000000</td>\n",
       "      <td>100.000000</td>\n",
       "      <td>13.890000</td>\n",
       "      <td>ZW</td>\n",
       "      <td>1.644711e+09</td>\n",
       "    </tr>\n",
       "  </tbody>\n",
       "</table>\n",
       "</div>"
      ],
      "text/plain": [
       "             City    Latitude   Longitude        Temp    Humidity  Cloudiness  \\\n",
       "count         582  582.000000  582.000000  582.000000  582.000000  582.000000   \n",
       "mean          NaN   21.175698   21.016526    8.542749   74.890034   61.307560   \n",
       "std           NaN   33.447826   90.101396   17.778443   20.944027   39.208607   \n",
       "min       Aasiaat  -54.800000 -179.166700  -39.890000    9.000000    0.000000   \n",
       "max    ‘Ewa Beach   78.218600  179.316700   32.060000  100.000000  100.000000   \n",
       "\n",
       "       Wind Speed Country          Date  \n",
       "count  582.000000     582  5.820000e+02  \n",
       "mean     3.269192     NaN  1.644711e+09  \n",
       "std      2.352928     NaN  8.516909e+01  \n",
       "min      0.000000      AI  1.644710e+09  \n",
       "max     13.890000      ZW  1.644711e+09  "
      ]
     },
     "execution_count": 61,
     "metadata": {},
     "output_type": "execute_result"
    }
   ],
   "source": [
    "weather_DF.agg([\"count\",\"mean\",\"std\",\"min\",\"max\"])"
   ]
  },
  {
   "cell_type": "markdown",
   "metadata": {},
   "source": [
    "## Plotting the Data\n",
    "* Use proper labeling of the plots using plot titles (including date of analysis) and axes labels.\n",
    "* Save the plotted figures as .pngs."
   ]
  },
  {
   "cell_type": "markdown",
   "metadata": {},
   "source": [
    "## Latitude vs. Temperature Plot"
   ]
  },
  {
   "cell_type": "code",
   "execution_count": 62,
   "metadata": {
    "scrolled": true
   },
   "outputs": [
    {
     "data": {
      "image/png": "[encoded data removed]",
      "text/plain": [
       "<Figure size 432x288 with 1 Axes>"
      ]
     },
     "metadata": {
      "needs_background": "light"
     },
     "output_type": "display_data"
    },
    {
     "name": "stdout",
     "output_type": "stream",
     "text": [
      "As we expected, the weather becomes significantly warmer as one approaches the equator (0 Degrees Latitude). More interestingly, however, is the fact that the southern hemisphere tends to be warmer this time of year than the norther hemisphere. This may be due to the tilt of the earth at the time of the year this data was gathered.\n"
     ]
    },
    {
     "data": {
      "text/plain": [
       "<Figure size 432x288 with 0 Axes>"
      ]
     },
     "metadata": {},
     "output_type": "display_data"
    }
   ],
   "source": [
    "# Create a scatter plot for latitude vs temperature\n",
    "plt.scatter(weather_DF[\"Latitude\"], weather_DF[\"Temp\"], facecolors=\"blue\", marker=\"o\", edgecolor=\"black\")\n",
    "plt.xlabel(\"Latitude\")\n",
    "plt.ylabel(\"Max Temperature (F)\")\n",
    "plt.title(\"City Latitude vs. Temperature (02/02/2022)\")\n",
    "plt.grid()\n",
    "\n",
    "plt.show()\n",
    "print(\"As we expected, the weather becomes significantly warmer as one approaches the equator (0 Degrees Latitude). More interestingly, however, is the fact that the southern hemisphere tends to be warmer this time of year than the norther hemisphere. This may be due to the tilt of the earth at the time of the year this data was gathered.\")\n",
    "# save plot as png file\n",
    "plt.savefig(\"Latitude_vs_Temperature.png\")\n",
    "\n"
   ]
  },
  {
   "cell_type": "markdown",
   "metadata": {},
   "source": [
    "## Latitude vs. Humidity Plot"
   ]
  },
  {
   "cell_type": "code",
   "execution_count": 63,
   "metadata": {},
   "outputs": [
    {
     "data": {
      "image/png": "[encoded data removed]",
      "text/plain": [
       "<Figure size 432x288 with 1 Axes>"
      ]
     },
     "metadata": {
      "needs_background": "light"
     },
     "output_type": "display_data"
    },
    {
     "name": "stdout",
     "output_type": "stream",
     "text": [
      "This scatter plot shows that it is difficult to determine a relationship between latitude and Humidity.There are many data points with 100% humidity, and various clusters forming around the 60 to 80 degrees latitude data points.\n"
     ]
    },
    {
     "data": {
      "text/plain": [
       "<Figure size 432x288 with 0 Axes>"
      ]
     },
     "metadata": {},
     "output_type": "display_data"
    }
   ],
   "source": [
    "# Create a scatter plot for latitude vs humidity\n",
    "plt.scatter(weather_DF[\"Latitude\"], weather_DF[\"Humidity\"], facecolors=\"blue\", marker=\"o\", edgecolor=\"black\")\n",
    "plt.xlabel(\"Latitude\")\n",
    "plt.ylabel(\"Humidity (%)\")\n",
    "plt.title(\"City Latitude vs. Humidity (02/02/2022)\")\n",
    "plt.grid()\n",
    "\n",
    "plt.show()\n",
    "print(\"This scatter plot shows that it is difficult to determine a relationship between latitude and Humidity.There are many data points with 100% humidity, and various clusters forming around the 60 to 80 degrees latitude data points.\")\n",
    "# save plot as png file\n",
    "plt.savefig(\"Latitude_vs_Humidity.png\")\n"
   ]
  },
  {
   "cell_type": "markdown",
   "metadata": {},
   "source": [
    "## Latitude vs. Cloudiness Plot"
   ]
  },
  {
   "cell_type": "code",
   "execution_count": 64,
   "metadata": {},
   "outputs": [
    {
     "data": {
      "image/png": "[encoded data removed]",
      "text/plain": [
       "<Figure size 432x288 with 1 Axes>"
      ]
     },
     "metadata": {
      "needs_background": "light"
     },
     "output_type": "display_data"
    },
    {
     "name": "stdout",
     "output_type": "stream",
     "text": [
      "This scatter plot shows that it is difficult to determine a relationship between latitude and Cloudiness. There are many data points with either 0% cloudiness, ~80% cloudiness, and 90% humidity. \n"
     ]
    },
    {
     "data": {
      "text/plain": [
       "<Figure size 432x288 with 0 Axes>"
      ]
     },
     "metadata": {},
     "output_type": "display_data"
    }
   ],
   "source": [
    "# Create a scatter plot for latitude vs cloudiness\n",
    "plt.scatter(weather_DF[\"Latitude\"], weather_DF[\"Cloudiness\"], facecolors=\"blue\", marker=\"o\", edgecolor=\"black\")\n",
    "plt.xlabel(\"Latitude\")\n",
    "plt.ylabel(\"Cloudiness (%)\")\n",
    "plt.title(\"City Latitude vs. Cloudiness (02/02/2022)\")\n",
    "plt.grid()\n",
    "\n",
    "plt.show()\n",
    "print(\"This scatter plot shows that it is difficult to determine a relationship between latitude and Cloudiness. There are many data points with either 0% cloudiness, ~80% cloudiness, and 90% humidity. \")\n",
    "# save plot as png file\n",
    "plt.savefig(\"Latitude_vs_Cloudiness.png\")"
   ]
  },
  {
   "cell_type": "markdown",
   "metadata": {},
   "source": [
    "## Latitude vs. Wind Speed Plot"
   ]
  },
  {
   "cell_type": "code",
   "execution_count": 65,
   "metadata": {},
   "outputs": [
    {
     "data": {
      "image/png": "[encoded data removed]",
      "text/plain": [
       "<Figure size 432x288 with 1 Axes>"
      ]
     },
     "metadata": {
      "needs_background": "light"
     },
     "output_type": "display_data"
    },
    {
     "name": "stdout",
     "output_type": "stream",
     "text": [
      "This scatter plot shows that it is difficult to determine a relationship between latitude and wind speed. There are many data points in the northern hemisphere that are reporting wind speeds of 0 - 15 mph.\n"
     ]
    },
    {
     "data": {
      "text/plain": [
       "<Figure size 432x288 with 0 Axes>"
      ]
     },
     "metadata": {},
     "output_type": "display_data"
    }
   ],
   "source": [
    "# Create a scatter plot for latitude vs wind speed\n",
    "plt.scatter(weather_DF[\"Latitude\"], weather_DF[\"Wind Speed\"], facecolors=\"blue\", marker=\"o\", edgecolor=\"black\")\n",
    "plt.xlabel(\"Latitude\")\n",
    "plt.ylabel(\"Wind Speed (mph)\")\n",
    "plt.title(\"City Latitude vs. Wind Speed  (02/02/2022)\")\n",
    "plt.grid()\n",
    "\n",
    "plt.show()\n",
    "print(\"This scatter plot shows that it is difficult to determine a relationship between latitude and wind speed. There are many data points in the northern hemisphere that are reporting wind speeds of 0 - 15 mph.\")\n",
    "# save plot as png file\n",
    "plt.savefig(\"Latitude_vs_Wind_Speed.png\")"
   ]
  },
  {
   "cell_type": "markdown",
   "metadata": {},
   "source": [
    "## Linear Regression"
   ]
  },
  {
   "cell_type": "markdown",
   "metadata": {},
   "source": [
    "####  Northern Hemisphere - Max Temp vs. Latitude Linear Regression"
   ]
  },
  {
   "cell_type": "code",
   "execution_count": 66,
   "metadata": {},
   "outputs": [
    {
     "name": "stdout",
     "output_type": "stream",
     "text": [
      "The r-value is: 0.7075883906337597\n"
     ]
    },
    {
     "data": {
      "image/png": "[encoded data removed]",
      "text/plain": [
       "<Figure size 432x288 with 1 Axes>"
      ]
     },
     "metadata": {
      "needs_background": "light"
     },
     "output_type": "display_data"
    },
    {
     "data": {
      "text/plain": [
       "<Figure size 432x288 with 0 Axes>"
      ]
     },
     "metadata": {},
     "output_type": "display_data"
    }
   ],
   "source": [
    "# create dataframe for northern hemisphere\n",
    "nhDF = weather_DF.loc[weather_DF[\"Latitude\"] >= 0]\n",
    "\n",
    "# Create a scatter plot for latitude vs temperature for northern hemisphere\n",
    "x_values = nhDF[\"Latitude\"]\n",
    "y_values = nhDF[\"Temp\"]\n",
    "(slope, intercept, rvalue, pvalue, stderr) = stats.linregress(x_values, y_values)\n",
    "regress_values = x_values * slope + intercept\n",
    "line_eq = \"y = \" + str(round(slope,2)) + \"x +\" + str(round(intercept,2))\n",
    "print(f\"The r-value is: {rvalue**2}\")\n",
    "plt.scatter(x_values,y_values, facecolors=\"orange\", marker=\"o\", edgecolor=\"black\")\n",
    "plt.annotate(line_eq,(0,-33),fontsize=20,color=\"black\")\n",
    "plt.xlabel('Latitude')\n",
    "plt.ylabel('Max Temp (F)')\n",
    "plt.title(\"Nothern Hemisphere - Latitude vs. Temperature (02/02/2022)\")\n",
    "plt.plot(x_values,regress_values,\"r-\")\n",
    "\n",
    "plt.show()\n",
    "plt.savefig(\"Nothern_Hemisphere_Latitude_vs_Temperature.png\")"
   ]
  },
  {
   "cell_type": "markdown",
   "metadata": {},
   "source": [
    "####  Southern Hemisphere - Max Temp vs. Latitude Linear Regression"
   ]
  },
  {
   "cell_type": "code",
   "execution_count": 67,
   "metadata": {},
   "outputs": [
    {
     "name": "stdout",
     "output_type": "stream",
     "text": [
      "The r-value is: 0.26829335772824825\n"
     ]
    },
    {
     "data": {
      "image/png": "[encoded data removed]",
      "text/plain": [
       "<Figure size 432x288 with 1 Axes>"
      ]
     },
     "metadata": {
      "needs_background": "light"
     },
     "output_type": "display_data"
    },
    {
     "data": {
      "text/plain": [
       "<Figure size 432x288 with 0 Axes>"
      ]
     },
     "metadata": {},
     "output_type": "display_data"
    }
   ],
   "source": [
    "# create dataframe for southern hemisphere\n",
    "shDF = weather_DF.loc[weather_DF[\"Latitude\"] <= 0]\n",
    "\n",
    "# Create a scatter plot for latitude vs temperature for southern hemisphere\n",
    "x_values = shDF[\"Latitude\"]\n",
    "y_values = shDF[\"Temp\"]\n",
    "(slope, intercept, rvalue, pvalue, stderr) = stats.linregress(x_values, y_values)\n",
    "regress_values = x_values * slope + intercept\n",
    "line_eq = \"y = \" + str(round(slope,2)) + \"x +\" + str(round(intercept,2))\n",
    "print(f\"The r-value is: {rvalue**2}\")\n",
    "plt.scatter(x_values,y_values, facecolors=\"orange\", marker=\"o\", edgecolor=\"black\")\n",
    "plt.annotate(line_eq,(-50,5),fontsize=20,color=\"black\")\n",
    "plt.xlabel('Latitude')\n",
    "plt.ylabel('Max Temp (F)')\n",
    "plt.title(\"Southern Hemisphere - Latitude vs. Temperature (02/02/2022)\")\n",
    "plt.plot(x_values,regress_values,\"r-\")\n",
    "\n",
    "plt.show()\n",
    "plt.savefig(\"Southern_Hemisphere_Latitude_vs_Temperature.png\")"
   ]
  },
  {
   "cell_type": "markdown",
   "metadata": {},
   "source": [
    "####  Northern Hemisphere - Humidity (%) vs. Latitude Linear Regression"
   ]
  },
  {
   "cell_type": "code",
   "execution_count": 68,
   "metadata": {},
   "outputs": [
    {
     "name": "stdout",
     "output_type": "stream",
     "text": [
      "The r-value is: 0.1932268142862668\n"
     ]
    },
    {
     "data": {
      "image/png": "[encoded data removed]",
      "text/plain": [
       "<Figure size 432x288 with 1 Axes>"
      ]
     },
     "metadata": {
      "needs_background": "light"
     },
     "output_type": "display_data"
    },
    {
     "data": {
      "text/plain": [
       "<Figure size 432x288 with 0 Axes>"
      ]
     },
     "metadata": {},
     "output_type": "display_data"
    }
   ],
   "source": [
    "# Create a scatter plot for latitude vs Humidity for northern hemisphere\n",
    "x_values = nhDF[\"Latitude\"]\n",
    "y_values = nhDF[\"Humidity\"]\n",
    "(slope, intercept, rvalue, pvalue, stderr) = stats.linregress(x_values, y_values)\n",
    "regress_values = x_values * slope + intercept\n",
    "line_eq = \"y = \" + str(round(slope,2)) + \"x +\" + str(round(intercept,2))\n",
    "print(f\"The r-value is: {rvalue**2}\")\n",
    "plt.scatter(x_values,y_values, facecolors=\"blue\", marker=\"o\", edgecolor=\"blue\")\n",
    "plt.annotate(line_eq,(40,10),fontsize=15,color=\"black\")\n",
    "plt.xlabel('Latitude')\n",
    "plt.ylabel('Humidity (%)')\n",
    "plt.title(\"Nothern Hemisphere - Latitude vs. Humidity(%) (02/02/2022)\")\n",
    "plt.plot(x_values,regress_values,\"r-\")\n",
    "\n",
    "plt.show()\n",
    "plt.savefig(\"Nothern_Hemisphere_Latitude_vs_Humidity.png\")"
   ]
  },
  {
   "cell_type": "markdown",
   "metadata": {},
   "source": [
    "####  Southern Hemisphere - Humidity (%) vs. Latitude Linear Regression"
   ]
  },
  {
   "cell_type": "code",
   "execution_count": 74,
   "metadata": {},
   "outputs": [
    {
     "name": "stdout",
     "output_type": "stream",
     "text": [
      "The r-value is: 0.13632571432779772\n"
     ]
    },
    {
     "data": {
      "image/png": "[encoded data removed]",
      "text/plain": [
       "<Figure size 432x288 with 1 Axes>"
      ]
     },
     "metadata": {
      "needs_background": "light"
     },
     "output_type": "display_data"
    },
    {
     "data": {
      "text/plain": [
       "<Figure size 432x288 with 0 Axes>"
      ]
     },
     "metadata": {},
     "output_type": "display_data"
    }
   ],
   "source": [
    "# Create a scatter plot for latitude vs Humidity for northern hemisphere\n",
    "x_values = shDF[\"Latitude\"]\n",
    "y_values = shDF[\"Humidity\"]\n",
    "(slope, intercept, rvalue, pvalue, stderr) = stats.linregress(x_values, y_values)\n",
    "regress_values = x_values * slope + intercept\n",
    "line_eq = \"y = \" + str(round(slope,2)) + \"x +\" + str(round(intercept,2))\n",
    "print(f\"The r-value is: {rvalue**2}\")\n",
    "plt.scatter(x_values,y_values, facecolors=\"blue\", marker=\"o\", edgecolor=\"blue\")\n",
    "plt.annotate(line_eq,(-30,40),fontsize=15,color=\"black\")\n",
    "plt.xlabel('Latitude')\n",
    "plt.ylabel('Humidity (%)')\n",
    "plt.title(\"Southern Hemisphere - Latitude vs. Humidity(%) (02/02/2022)\")\n",
    "plt.plot(x_values,regress_values,\"r-\")\n",
    "\n",
    "plt.show()\n",
    "plt.savefig(\"Southern_Hemisphere_Latitude_vs_Humidity.png\")"
   ]
  },
  {
   "cell_type": "markdown",
   "metadata": {},
   "source": [
    "####  Northern Hemisphere - Cloudiness (%) vs. Latitude Linear Regression"
   ]
  },
  {
   "cell_type": "code",
   "execution_count": 70,
   "metadata": {},
   "outputs": [
    {
     "name": "stdout",
     "output_type": "stream",
     "text": [
      "The r-value is: 0.030621564523233846\n"
     ]
    },
    {
     "data": {
      "image/png": "[encoded data removed]",
      "text/plain": [
       "<Figure size 432x288 with 1 Axes>"
      ]
     },
     "metadata": {
      "needs_background": "light"
     },
     "output_type": "display_data"
    },
    {
     "data": {
      "text/plain": [
       "<Figure size 432x288 with 0 Axes>"
      ]
     },
     "metadata": {},
     "output_type": "display_data"
    }
   ],
   "source": [
    "# Create a scatter plot for latitude vs Humidity for northern hemisphere\n",
    "x_values = nhDF[\"Latitude\"]\n",
    "y_values = nhDF[\"Cloudiness\"]\n",
    "(slope, intercept, rvalue, pvalue, stderr) = stats.linregress(x_values, y_values)\n",
    "regress_values = x_values * slope + intercept\n",
    "line_eq = \"y = \" + str(round(slope,2)) + \"x +\" + str(round(intercept,2))\n",
    "print(f\"The r-value is: {rvalue**2}\")\n",
    "plt.scatter(x_values,y_values, facecolors=\"yellow\", marker=\"o\", edgecolor=\"black\")\n",
    "plt.annotate(line_eq,(45,50),fontsize=15,color=\"black\")\n",
    "plt.xlabel('Latitude')\n",
    "plt.ylabel('Cloudiness')\n",
    "plt.title(\"Nothern Hemisphere - Latitude vs. Cloudiness (02/02/2022)\")\n",
    "plt.plot(x_values,regress_values,\"r-\")\n",
    "\n",
    "plt.show()\n",
    "plt.savefig(\"Nothern_Hemisphere_Latitude_vs_Cloudiness.png\")"
   ]
  },
  {
   "cell_type": "markdown",
   "metadata": {},
   "source": [
    "####  Southern Hemisphere - Cloudiness (%) vs. Latitude Linear Regression"
   ]
  },
  {
   "cell_type": "code",
   "execution_count": 71,
   "metadata": {},
   "outputs": [
    {
     "name": "stdout",
     "output_type": "stream",
     "text": [
      "The r-value is: 0.04229611054380065\n"
     ]
    },
    {
     "data": {
      "image/png": "[encoded data removed]",
      "text/plain": [
       "<Figure size 432x288 with 1 Axes>"
      ]
     },
     "metadata": {
      "needs_background": "light"
     },
     "output_type": "display_data"
    },
    {
     "data": {
      "text/plain": [
       "<Figure size 432x288 with 0 Axes>"
      ]
     },
     "metadata": {},
     "output_type": "display_data"
    }
   ],
   "source": [
    "# Create a scatter plot for latitude vs Humidity for northern hemisphere\n",
    "x_values = shDF[\"Latitude\"]\n",
    "y_values = shDF[\"Cloudiness\"]\n",
    "(slope, intercept, rvalue, pvalue, stderr) = stats.linregress(x_values, y_values)\n",
    "regress_values = x_values * slope + intercept\n",
    "line_eq = \"y = \" + str(round(slope,2)) + \"x +\" + str(round(intercept,2))\n",
    "print(f\"The r-value is: {rvalue**2}\")\n",
    "plt.scatter(x_values,y_values, facecolors=\"yellow\", marker=\"o\", edgecolor=\"black\")\n",
    "plt.annotate(line_eq,(-55,55),fontsize=15,color=\"black\")\n",
    "plt.xlabel('Latitude')\n",
    "plt.ylabel('Cloudiness')\n",
    "plt.title(\"Southern Hemisphere - Latitude vs. Cloudiness (02/02/2022)\")\n",
    "plt.plot(x_values,regress_values,\"r-\")\n",
    "\n",
    "plt.show()\n",
    "plt.savefig(\"Southern_Hemisphere_Latitude_vs_Cloudiness.png\")"
   ]
  },
  {
   "cell_type": "markdown",
   "metadata": {},
   "source": [
    "####  Northern Hemisphere - Wind Speed (mph) vs. Latitude Linear Regression"
   ]
  },
  {
   "cell_type": "code",
   "execution_count": 75,
   "metadata": {},
   "outputs": [
    {
     "name": "stdout",
     "output_type": "stream",
     "text": [
      "The r-value is: 0.0038376598039422294\n"
     ]
    },
    {
     "data": {
      "image/png": "[encoded data removed]",
      "text/plain": [
       "<Figure size 432x288 with 1 Axes>"
      ]
     },
     "metadata": {
      "needs_background": "light"
     },
     "output_type": "display_data"
    },
    {
     "data": {
      "text/plain": [
       "<Figure size 432x288 with 0 Axes>"
      ]
     },
     "metadata": {},
     "output_type": "display_data"
    }
   ],
   "source": [
    "# Create a scatter plot for latitude vs Humidity for northern hemisphere\n",
    "x_values = nhDF[\"Latitude\"]\n",
    "y_values = nhDF[\"Wind Speed\"]\n",
    "(slope, intercept, rvalue, pvalue, stderr) = stats.linregress(x_values, y_values)\n",
    "regress_values = x_values * slope + intercept\n",
    "line_eq = \"y = \" + str(round(slope,2)) + \"x +\" + str(round(intercept,2))\n",
    "print(f\"The r-value is: {rvalue**2}\")\n",
    "plt.scatter(x_values,y_values, facecolors=\"cyan\", marker=\"o\", edgecolor=\"black\")\n",
    "plt.annotate(line_eq,(0,13),fontsize=15,color=\"black\")\n",
    "plt.xlabel('Latitude')\n",
    "plt.ylabel('Wind Speed (mph)')\n",
    "plt.title(\"Nothern Hemisphere - Latitude vs. Wind Speed (mph) (02/02/2022)\")\n",
    "plt.plot(x_values,regress_values,\"r-\")\n",
    "\n",
    "plt.show()\n",
    "plt.savefig(\"Nothern_Hemisphere_Latitude_vs_Wind_Speed.png\")"
   ]
  },
  {
   "cell_type": "markdown",
   "metadata": {},
   "source": [
    "####  Southern Hemisphere - Wind Speed (mph) vs. Latitude Linear Regression"
   ]
  },
  {
   "cell_type": "code",
   "execution_count": 76,
   "metadata": {},
   "outputs": [
    {
     "name": "stdout",
     "output_type": "stream",
     "text": [
      "The r-value is: 0.12582340400755235\n"
     ]
    },
    {
     "data": {
      "image/png": "[encoded data removed]",
      "text/plain": [
       "<Figure size 432x288 with 1 Axes>"
      ]
     },
     "metadata": {
      "needs_background": "light"
     },
     "output_type": "display_data"
    },
    {
     "data": {
      "text/plain": [
       "<Figure size 432x288 with 0 Axes>"
      ]
     },
     "metadata": {},
     "output_type": "display_data"
    }
   ],
   "source": [
    "# Create a scatter plot for latitude vs Humidity for northern hemisphere\n",
    "x_values = shDF[\"Latitude\"]\n",
    "y_values = shDF[\"Wind Speed\"]\n",
    "(slope, intercept, rvalue, pvalue, stderr) = stats.linregress(x_values, y_values)\n",
    "regress_values = x_values * slope + intercept\n",
    "line_eq = \"y = \" + str(round(slope,2)) + \"x +\" + str(round(intercept,2))\n",
    "print(f\"The r-value is: {rvalue**2}\")\n",
    "plt.scatter(x_values,y_values, facecolors=\"cyan\", marker=\"o\", edgecolor=\"black\")\n",
    "plt.annotate(line_eq,(-20,11),fontsize=15,color=\"black\")\n",
    "plt.xlabel('Latitude')\n",
    "plt.ylabel('Wind Speed (mph)')\n",
    "plt.title(\"Southern Hemisphere - Latitude vs. Wind Speed (mph) (02/02/2022)\")\n",
    "plt.plot(x_values,regress_values,\"r-\")\n",
    "\n",
    "plt.show()\n",
    "plt.savefig(\"Southern_Hemisphere_Latitude_vs_Wind_Speed.png\")"
   ]
  },
  {
   "cell_type": "code",
   "execution_count": null,
   "metadata": {},
   "outputs": [],
   "source": []
  }
 ],
 "metadata": {
  "anaconda-cloud": {},
  "interpreter": {
   "hash": "b3ba2566441a7c06988d0923437866b63cedc61552a5af99d1f4fb67d367b25f"
  },
  "kernel_info": {
   "name": "python3"
  },
  "kernelspec": {
   "display_name": "mypydev",
   "language": "python",
   "name": "python3"
  },
  "language_info": {
   "codemirror_mode": {
    "name": "ipython",
    "version": 3
   },
   "file_extension": ".py",
   "mimetype": "text/x-python",
   "name": "python",
   "nbconvert_exporter": "python",
   "pygments_lexer": "ipython3",
   "version": "3.8.8"
  },
  "latex_envs": {
   "LaTeX_envs_menu_present": true,
   "autoclose": false,
   "autocomplete": true,
   "bibliofile": "biblio.bib",
   "cite_by": "apalike",
   "current_citInitial": 1,
   "eqLabelWithNumbers": true,
   "eqNumInitial": 1,
   "hotkeys": {
    "equation": "Ctrl-E",
    "itemize": "Ctrl-I"
   },
   "labels_anchors": false,
   "latex_user_defs": false,
   "report_style_numbering": false,
   "user_envs_cfg": false
  },
  "nteract": {
   "version": "0.12.3"
  }
 },
 "nbformat": 4,
 "nbformat_minor": 2
}
